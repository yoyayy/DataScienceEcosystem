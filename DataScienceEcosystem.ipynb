{
  "metadata": {
    "kernelspec": {
      "name": "xpython",
      "display_name": "Python 3.13 (XPython)",
      "language": "python"
    },
    "language_info": {
      "file_extension": ".py",
      "mimetype": "text/x-python",
      "name": "python",
      "version": "3.13.1"
    }
  },
  "nbformat_minor": 5,
  "nbformat": 4,
  "cells": [
    {
      "id": "93bfc9de-83f2-49f5-af97-562cc6b83844",
      "cell_type": "markdown",
      "source": "# Data Science Tools and Ecosystem",
      "metadata": {
        "tags": [],
        "editable": true,
        "slideshow": {
          "slide_type": ""
        }
      }
    },
    {
      "id": "5fbffe58-5e0c-466e-a84b-273afca59b71",
      "cell_type": "markdown",
      "source": "In this notebook, Data Science Tools and Ecosystem are summarized. ",
      "metadata": {}
    },
    {
      "id": "b4d0b0ee-457a-41dc-9a9e-aa2022d4abd0",
      "cell_type": "markdown",
      "source": "**Objectives:**\n* Python\n* R\n* Java\n* Julia\n* C++",
      "metadata": {}
    },
    {
      "id": "ed6d492d-5108-4583-a530-d4b32bdacd17",
      "cell_type": "markdown",
      "source": "Some of the popular languages that Data Scientists use are:\n1. R\n2. Python\n3. Java",
      "metadata": {}
    },
    {
      "id": "d241159f-54c9-45b1-aaf6-8f1fec6c40e6",
      "cell_type": "markdown",
      "source": "Some of the commonly used libraries used by Data Scientists include:\n1. Pandas\n2. Scikit-learn\n3. Matplotlib",
      "metadata": {}
    },
    {
      "id": "56a8d636-d664-44bf-b7f2-51c2af214ffe",
      "cell_type": "markdown",
      "source": "| Data Science Tools |\n| ------------------ |\n| RStudio            |\n| GitLab             |\n| Visual Studio      |",
      "metadata": {}
    },
    {
      "id": "e536efd7-2a75-4d71-9a09-14d4cc85cba6",
      "cell_type": "markdown",
      "source": "### Below are a few examples of evaluating arithmetic expressions in Python.",
      "metadata": {}
    },
    {
      "id": "2a22a789-31f1-4788-9411-c6ebf8df9475",
      "cell_type": "code",
      "source": "(3*4)+5",
      "metadata": {
        "trusted": true
      },
      "outputs": [
        {
          "execution_count": 8,
          "output_type": "execute_result",
          "data": {
            "text/plain": "17"
          },
          "metadata": {}
        }
      ],
      "execution_count": 8
    },
    {
      "id": "c90daa5b-d57e-425f-8bd1-37397a609881",
      "cell_type": "markdown",
      "source": "This a simple arithmetic expression to mutiply then add integers.",
      "metadata": {}
    },
    {
      "id": "d9f3c993-9219-4720-bf68-d0e42f345de5",
      "cell_type": "code",
      "source": "# Convert minutes into hours\nminutes = 200\n# 60 minutes = 1 hour\nhours = minutes / 60\n# Output\nprint(f\"{minutes} minutes is equal to {hours} hours.\")\n\n# This will convert 200 minutes to hours by diving by 60.",
      "metadata": {
        "trusted": true
      },
      "outputs": [
        {
          "name": "stdout",
          "output_type": "stream",
          "text": "200 minutes is equal to 3.3333333333333335 hours.\n"
        }
      ],
      "execution_count": 9
    },
    {
      "id": "6664eb88-2a3c-4be4-978d-b3f61653c80f",
      "cell_type": "markdown",
      "source": "## Author\nYong Yee Yang",
      "metadata": {}
    },
    {
      "id": "e400d546-1e67-476e-bdac-d937493a8325",
      "cell_type": "code",
      "source": "",
      "metadata": {
        "trusted": true
      },
      "outputs": [],
      "execution_count": null
    }
  ]
}